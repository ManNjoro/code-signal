{
 "cells": [
  {
   "cell_type": "markdown",
   "id": "804ef9e6-fc9e-4871-a1ab-e9d07ab97ed1",
   "metadata": {},
   "source": [
    "# Introduction to the seaborn Flights Dataset"
   ]
  },
  {
   "cell_type": "markdown",
   "id": "f4a75f02-66a6-49f9-aacb-fd3cb1d993f1",
   "metadata": {},
   "source": [
    "The Flights dataset comprises three distinct columns:\n",
    "\n",
    "- *year*: Represents the year in which the count of passengers was taken.\n",
    "- *month*: Points towards the month in which the passenger count was gathered.\n",
    "- *passengers*: Indicates the number of passengers that traveled in that month of a particular year."
   ]
  },
  {
   "cell_type": "code",
   "execution_count": 3,
   "id": "f258c0d8-30c7-4821-a269-969e3f760abd",
   "metadata": {},
   "outputs": [
    {
     "name": "stdout",
     "output_type": "stream",
     "text": [
      "   year month  passengers\n",
      "0  1949   Jan         112\n",
      "1  1949   Feb         118\n",
      "2  1949   Mar         132\n",
      "3  1949   Apr         129\n",
      "4  1949   May         121\n",
      "   year month  passengers\n",
      "0  1949   Jan         112\n",
      "1  1949   Feb         118\n",
      "2  1949   Mar         132\n",
      "3  1949   Apr         129\n",
      "4  1949   May         121\n",
      "5  1949   Jun         135\n",
      "6  1949   Jul         148\n",
      "7  1949   Aug         148\n",
      "8  1949   Sep         136\n",
      "9  1949   Oct         119\n",
      "     year month  passengers\n",
      "139  1960   Aug         606\n",
      "140  1960   Sep         508\n",
      "141  1960   Oct         461\n",
      "142  1960   Nov         390\n",
      "143  1960   Dec         432\n"
     ]
    }
   ],
   "source": [
    "import seaborn as sns\n",
    "\n",
    "# Load the Flights dataset\n",
    "flights_df = sns.load_dataset('flights')\n",
    "\n",
    "# Display the first five records\n",
    "print(flights_df.head())\n",
    "\"\"\"\n",
    "   year month  passengers\n",
    "0  1949   Jan         112\n",
    "1  1949   Feb         118\n",
    "2  1949   Mar         132\n",
    "3  1949   Apr         129\n",
    "4  1949   May         121\n",
    "\"\"\"\n",
    "\n",
    "# Display the first 10 records\n",
    "print(flights_df.head(10))\n",
    "\n",
    "# Display the last five records\n",
    "print(flights_df.tail())"
   ]
  },
  {
   "cell_type": "markdown",
   "id": "3056faf2-3b57-4958-a05f-22a0c427e558",
   "metadata": {},
   "source": [
    "# Facets of the Dataset\n",
    "Our DataFrame flights_df has a specific shape, i.e., it contains a certain number of rows and columns. You can retrieve this shape using the shape attribute. This attribute returns a tuple representing the dimensionality of the DataFrame. It is used to get the current shape of DataFrame, i.e., (number of rows and columns).\n",
    "\n",
    "Additionally, you can use the info() method to get a quick description of the data, including the total number of non-null entries and the column data types."
   ]
  },
  {
   "cell_type": "code",
   "execution_count": 4,
   "id": "e56454a9-9b25-4b82-b5f0-444823c0445a",
   "metadata": {},
   "outputs": [
    {
     "name": "stdout",
     "output_type": "stream",
     "text": [
      "Shape of the dataset: (144, 3)\n",
      "<class 'pandas.core.frame.DataFrame'>\n",
      "RangeIndex: 144 entries, 0 to 143\n",
      "Data columns (total 3 columns):\n",
      " #   Column      Non-Null Count  Dtype   \n",
      "---  ------      --------------  -----   \n",
      " 0   year        144 non-null    int64   \n",
      " 1   month       144 non-null    category\n",
      " 2   passengers  144 non-null    int64   \n",
      "dtypes: category(1), int64(2)\n",
      "memory usage: 2.9 KB\n"
     ]
    },
    {
     "data": {
      "text/plain": [
       "\"\\n<class 'pandas.core.frame.DataFrame'>\\nRangeIndex: 144 entries, 0 to 143\\nData columns (total 3 columns):\\n #   Column      Non-Null Count  Dtype   \\n---  ------      --------------  -----   \\n 0   year        144 non-null    int64   \\n 1   month       144 non-null    category\\n 2   passengers  144 non-null    int64   \\ndtypes: category(1), int64(2)\\nmemory usage: 2.9 KB\\n\""
      ]
     },
     "execution_count": 4,
     "metadata": {},
     "output_type": "execute_result"
    }
   ],
   "source": [
    "# Get the dimensions of the dataset\n",
    "print('Shape of the dataset:', flights_df.shape)\n",
    "# Output: Shape of the dataset: (144, 3)\n",
    "\n",
    "# Get more information about the dataset\n",
    "flights_df.info()\n",
    "\"\"\"\n",
    "<class 'pandas.core.frame.DataFrame'>\n",
    "RangeIndex: 144 entries, 0 to 143\n",
    "Data columns (total 3 columns):\n",
    " #   Column      Non-Null Count  Dtype   \n",
    "---  ------      --------------  -----   \n",
    " 0   year        144 non-null    int64   \n",
    " 1   month       144 non-null    category\n",
    " 2   passengers  144 non-null    int64   \n",
    "dtypes: category(1), int64(2)\n",
    "memory usage: 2.9 KB\n",
    "\"\"\""
   ]
  },
  {
   "cell_type": "code",
   "execution_count": null,
   "id": "ab1fd4c7-c190-4fb0-acb2-38c8e82010a2",
   "metadata": {},
   "outputs": [],
   "source": []
  }
 ],
 "metadata": {
  "kernelspec": {
   "display_name": "Python 3 (ipykernel)",
   "language": "python",
   "name": "python3"
  },
  "language_info": {
   "codemirror_mode": {
    "name": "ipython",
    "version": 3
   },
   "file_extension": ".py",
   "mimetype": "text/x-python",
   "name": "python",
   "nbconvert_exporter": "python",
   "pygments_lexer": "ipython3",
   "version": "3.12.3"
  }
 },
 "nbformat": 4,
 "nbformat_minor": 5
}
