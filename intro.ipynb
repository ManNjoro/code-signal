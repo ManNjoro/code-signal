{
 "cells": [
  {
   "cell_type": "markdown",
   "id": "804ef9e6-fc9e-4871-a1ab-e9d07ab97ed1",
   "metadata": {},
   "source": [
    "# Introduction to the seaborn Flights Dataset"
   ]
  },
  {
   "cell_type": "markdown",
   "id": "f4a75f02-66a6-49f9-aacb-fd3cb1d993f1",
   "metadata": {},
   "source": [
    "The Flights dataset comprises three distinct columns:\n",
    "\n",
    "- *year*: Represents the year in which the count of passengers was taken.\n",
    "- *month*: Points towards the month in which the passenger count was gathered.\n",
    "- *passengers*: Indicates the number of passengers that traveled in that month of a particular year."
   ]
  },
  {
   "cell_type": "code",
   "execution_count": null,
   "id": "f258c0d8-30c7-4821-a269-969e3f760abd",
   "metadata": {},
   "outputs": [],
   "source": []
  }
 ],
 "metadata": {
  "kernelspec": {
   "display_name": "Python 3 (ipykernel)",
   "language": "python",
   "name": "python3"
  },
  "language_info": {
   "codemirror_mode": {
    "name": "ipython",
    "version": 3
   },
   "file_extension": ".py",
   "mimetype": "text/x-python",
   "name": "python",
   "nbconvert_exporter": "python",
   "pygments_lexer": "ipython3",
   "version": "3.12.3"
  }
 },
 "nbformat": 4,
 "nbformat_minor": 5
}
