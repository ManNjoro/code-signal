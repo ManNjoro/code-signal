{
 "cells": [
  {
   "cell_type": "code",
   "execution_count": 1,
   "id": "a527dfcb-aa6a-4dac-a077-7fddccde354c",
   "metadata": {},
   "outputs": [],
   "source": [
    "import math"
   ]
  },
  {
   "cell_type": "markdown",
   "id": "4e3b0997-37e7-4b87-9a3d-5456f3eb80be",
   "metadata": {},
   "source": [
    "### Question 1\n",
    "User will enter a floating point number let say 238.915. Your task is to find\n",
    "out the integer portion before the point (in this case 238) and then check\n",
    "if that integer portion is an even number or not?\n"
   ]
  },
  {
   "cell_type": "code",
   "execution_count": 16,
   "id": "b60b2358-4441-42ac-b622-37f8d880cac2",
   "metadata": {},
   "outputs": [],
   "source": [
    "def is_even(num):\n",
    "    \"\"\"\n",
    "    Returns True if num is even\n",
    "    \"\"\"\n",
    "    return num % 2 == 0"
   ]
  },
  {
   "cell_type": "code",
   "execution_count": 12,
   "id": "c329d8aa-196b-429a-ba9a-561b7bc7bb1a",
   "metadata": {},
   "outputs": [
    {
     "name": "stdout",
     "output_type": "stream",
     "text": [
      "Enter a floating number (e.g 2.7): 9.7\n"
     ]
    }
   ],
   "source": [
    "x = float(input(\"Enter a floating number (e.g 2.7):\"))"
   ]
  },
  {
   "cell_type": "code",
   "execution_count": 13,
   "id": "87a2bfb6-4cac-4a19-8100-c6bb58f6b3df",
   "metadata": {},
   "outputs": [
    {
     "name": "stdout",
     "output_type": "stream",
     "text": [
      "False\n"
     ]
    }
   ],
   "source": [
    "num = int(x)\n",
    "is_even = is_even(num)\n",
    "print(is_even)"
   ]
  },
  {
   "cell_type": "code",
   "execution_count": 15,
   "id": "bf8cf077-233a-438f-8835-0c1f6643cd49",
   "metadata": {},
   "outputs": [
    {
     "data": {
      "text/plain": [
       "\u001b[0;31mSignature:\u001b[0m \u001b[0mround\u001b[0m\u001b[0;34m(\u001b[0m\u001b[0mnumber\u001b[0m\u001b[0;34m,\u001b[0m \u001b[0mndigits\u001b[0m\u001b[0;34m=\u001b[0m\u001b[0;32mNone\u001b[0m\u001b[0;34m)\u001b[0m\u001b[0;34m\u001b[0m\u001b[0;34m\u001b[0m\u001b[0m\n",
       "\u001b[0;31mDocstring:\u001b[0m\n",
       "Round a number to a given precision in decimal digits.\n",
       "\n",
       "The return value is an integer if ndigits is omitted or None.  Otherwise\n",
       "the return value has the same type as the number.  ndigits may be negative.\n",
       "\u001b[0;31mType:\u001b[0m      builtin_function_or_method"
      ]
     },
     "metadata": {},
     "output_type": "display_data"
    }
   ],
   "source": [
    "round??"
   ]
  },
  {
   "cell_type": "code",
   "execution_count": 18,
   "id": "3fe29356-abf0-43f4-a401-4336dfff701f",
   "metadata": {},
   "outputs": [
    {
     "name": "stdout",
     "output_type": "stream",
     "text": [
      "apple:44\n",
      "cherry:game\n"
     ]
    }
   ],
   "source": [
    "D = {\"apple\": 44, \"cherry\": \"game\"}\n",
    "for key, value in D.items():\n",
    "    print(f\"{key}:{value}\")"
   ]
  },
  {
   "cell_type": "markdown",
   "id": "c9d9119d-2557-4351-a0f6-c104fd274b83",
   "metadata": {},
   "source": [
    "### Question 2\n",
    "Given a list of numbers i.e. [1, 2, 4, -5, 7, 9, 3, 2], make another list\n",
    "that contains all the items in sorted order from min to max. i.e. your\n",
    "result will be another list like [-5, 1, 2, 2, 3, 4, 7, 9]"
   ]
  },
  {
   "cell_type": "code",
   "execution_count": 21,
   "id": "8f9ca228-ac4b-4fe3-a83c-16ae132afaea",
   "metadata": {},
   "outputs": [
    {
     "name": "stdout",
     "output_type": "stream",
     "text": [
      "[-5, 1, 2, 2, 3, 4, 7, 9]\n"
     ]
    }
   ],
   "source": [
    "l1 = [1, 2, 4, -5, 7, 9, 3, 2]\n",
    "l2 = sorted(l1)\n",
    "print(l2)"
   ]
  },
  {
   "cell_type": "code",
   "execution_count": 2,
   "id": "d7841caa-a525-42f3-bad0-6e75da049044",
   "metadata": {},
   "outputs": [
    {
     "name": "stdout",
     "output_type": "stream",
     "text": [
      "sum: 15\n",
      "Help on function add in module __main__:\n",
      "\n",
      "add(*args)\n",
      "    returns the sum of the arguments passed\n",
      "\n"
     ]
    }
   ],
   "source": [
    "def add(*args):\n",
    "    \"\"\"returns the sum of the arguments passed\n",
    "    \"\"\"\n",
    "    return sum(args)\n",
    "a = add(1,2,3,4,5)\n",
    "\n",
    "print(\"sum:\",a)\n",
    "help(add)"
   ]
  },
  {
   "cell_type": "code",
   "execution_count": 1,
   "id": "2b00c7b6",
   "metadata": {},
   "outputs": [
    {
     "name": "stdout",
     "output_type": "stream",
     "text": [
      "True\n"
     ]
    }
   ],
   "source": [
    "a, b = 12, 5\n",
    "if a+b :\n",
    "    print(\"True\")\n",
    "else:\n",
    "    print(\"False\")"
   ]
  },
  {
   "cell_type": "code",
   "execution_count": 2,
   "id": "d57f5d2a",
   "metadata": {},
   "outputs": [
    {
     "data": {
      "text/plain": [
       "['__doc__',\n",
       " '__loader__',\n",
       " '__name__',\n",
       " '__package__',\n",
       " '__spec__',\n",
       " 'acos',\n",
       " 'acosh',\n",
       " 'asin',\n",
       " 'asinh',\n",
       " 'atan',\n",
       " 'atan2',\n",
       " 'atanh',\n",
       " 'cbrt',\n",
       " 'ceil',\n",
       " 'comb',\n",
       " 'copysign',\n",
       " 'cos',\n",
       " 'cosh',\n",
       " 'degrees',\n",
       " 'dist',\n",
       " 'e',\n",
       " 'erf',\n",
       " 'erfc',\n",
       " 'exp',\n",
       " 'exp2',\n",
       " 'expm1',\n",
       " 'fabs',\n",
       " 'factorial',\n",
       " 'floor',\n",
       " 'fmod',\n",
       " 'frexp',\n",
       " 'fsum',\n",
       " 'gamma',\n",
       " 'gcd',\n",
       " 'hypot',\n",
       " 'inf',\n",
       " 'isclose',\n",
       " 'isfinite',\n",
       " 'isinf',\n",
       " 'isnan',\n",
       " 'isqrt',\n",
       " 'lcm',\n",
       " 'ldexp',\n",
       " 'lgamma',\n",
       " 'log',\n",
       " 'log10',\n",
       " 'log1p',\n",
       " 'log2',\n",
       " 'modf',\n",
       " 'nan',\n",
       " 'nextafter',\n",
       " 'perm',\n",
       " 'pi',\n",
       " 'pow',\n",
       " 'prod',\n",
       " 'radians',\n",
       " 'remainder',\n",
       " 'sin',\n",
       " 'sinh',\n",
       " 'sqrt',\n",
       " 'sumprod',\n",
       " 'tan',\n",
       " 'tanh',\n",
       " 'tau',\n",
       " 'trunc',\n",
       " 'ulp']"
      ]
     },
     "execution_count": 2,
     "metadata": {},
     "output_type": "execute_result"
    }
   ],
   "source": [
    "import math\n",
    "dir(math)"
   ]
  },
  {
   "cell_type": "markdown",
   "id": "4ffdc18d",
   "metadata": {},
   "source": [
    "**To find a module python will use current directory and then all directories listed in system path**"
   ]
  },
  {
   "cell_type": "code",
   "execution_count": 1,
   "id": "96a210c8",
   "metadata": {},
   "outputs": [],
   "source": [
    "def addPath(path='.'):\n",
    "    '''Appends the path to the system path\n",
    "    '''\n",
    "    import sys\n",
    "    sys.path.append(path)"
   ]
  },
  {
   "cell_type": "code",
   "execution_count": null,
   "id": "f0fbc41a",
   "metadata": {},
   "outputs": [],
   "source": []
  }
 ],
 "metadata": {
  "kernelspec": {
   "display_name": "Python 3 (ipykernel)",
   "language": "python",
   "name": "python3"
  },
  "language_info": {
   "codemirror_mode": {
    "name": "ipython",
    "version": 3
   },
   "file_extension": ".py",
   "mimetype": "text/x-python",
   "name": "python",
   "nbconvert_exporter": "python",
   "pygments_lexer": "ipython3",
   "version": "3.12.3"
  }
 },
 "nbformat": 4,
 "nbformat_minor": 5
}
