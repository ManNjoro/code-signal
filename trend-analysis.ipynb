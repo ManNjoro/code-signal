{
 "cells": [
  {
   "cell_type": "markdown",
   "metadata": {},
   "source": [
    "# Beginning the Journey: Understanding Trend Analysis with Line Plots"
   ]
  },
  {
   "cell_type": "markdown",
   "metadata": {},
   "source": [
    "## Plotting The Course: Creating Line Plots\n",
    "The Flights dataset provides the number of passengers for each month from 1949 to 1960. To visualize overall trends, we can render the passenger count for each month into line plots. Line plots enable us to observe trends over the twelve-year timeline.\n",
    "\n",
    "Let's unravel the first plot:\n",
    "```python\n",
    "# Pivot the DataFrame to get the month as the index\n",
    "flights_df_pivot = flights_df.pivot(index=\"month\", columns=\"year\", values=\"passengers\")\n",
    "\n",
    "# Plot the passenger count for each month over each year\n",
    "flights_df_pivot.plot(title='Passenger Counts (1949 - 1960)')\n",
    "plt.ylabel(\"Passenger Count\")\n",
    "plt.show()\n",
    "```"
   ]
  },
  {
   "cell_type": "markdown",
   "metadata": {},
   "source": []
  }
 ],
 "metadata": {
  "language_info": {
   "name": "python"
  }
 },
 "nbformat": 4,
 "nbformat_minor": 2
}
